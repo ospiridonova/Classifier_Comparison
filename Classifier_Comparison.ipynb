{
 "cells": [
  {
   "cell_type": "markdown",
   "metadata": {},
   "source": [
    "В заметке \"выбор наилучшего порога логистической регрессии\" было показано, что в для задач медицинского прогнозирования логистическая регрессия является хорошим инструментом, так как имеет высокий показалеть площади под ROC кривой (больше 0.8).\n",
    "\n",
    "Целью этой заметки является сравнение качества предсказаний других методов в задачах медицинского прогнозирования. Рассматривается 4 популярных классификатора: дерево решений, метод опорных векторов, метод стахостического градиентного спуска и метод многослойного перцептрона."
   ]
  },
  {
   "cell_type": "code",
   "execution_count": 126,
   "metadata": {
    "collapsed": true
   },
   "outputs": [],
   "source": [
    "import pandas as pd\n",
    "import numpy as np\n",
    "from sklearn.model_selection import train_test_split\n",
    "from sklearn import metrics\n",
    "from sklearn import linear_model\n",
    "from sklearn import neural_network\n",
    "from sklearn.tree import DecisionTreeClassifier\n",
    "import matplotlib.pyplot as plt\n",
    "from sklearn.svm import SVC\n",
    "%matplotlib inline"
   ]
  },
  {
   "cell_type": "code",
   "execution_count": 50,
   "metadata": {},
   "outputs": [],
   "source": [
    "#загрузим данные о пациентах c диабетом\n",
    "data = pd.read_csv('C:/Users/olga/Downloads/diabetes.csv', index_col = 0)\n",
    "# X - матрица индивидуальных характеристик, y - вектор вида [1, -1], где 1 - болен, -1 - здоров\n",
    "X, y = data.iloc[:,:-1].values, data.iloc[:, -1]"
   ]
  },
  {
   "cell_type": "code",
   "execution_count": 105,
   "metadata": {},
   "outputs": [],
   "source": [
    "#классификатор \"дерево решений\"\n",
    "def tree(X,y):\n",
    "    x_train, x_test, y_train, y_test = train_test_split(X, y, test_size=0.2)\n",
    "    clf = DecisionTreeClassifier()\n",
    "    clf.fit(x_train, y_train)\n",
    "    return clf.predict(x_test), y_test\n"
   ]
  },
  {
   "cell_type": "code",
   "execution_count": 107,
   "metadata": {
    "collapsed": true
   },
   "outputs": [],
   "source": [
    "#классификатор \"метод опорных векторов\"\n",
    "def SVM(X,y):\n",
    "    X_train, X_test, y_train, y_test = train_test_split(X, y, test_size=0.2)\n",
    "    clf = SVC()\n",
    "    clf.fit(X_train, y_train)\n",
    "    return clf.predict(X_test), y_test\n",
    "    "
   ]
  },
  {
   "cell_type": "code",
   "execution_count": 108,
   "metadata": {
    "collapsed": true
   },
   "outputs": [],
   "source": [
    "#классификация методом стахостического градиентного спуска\n",
    "def SGD(X,y):\n",
    "    X_train, X_test, y_train, y_test = train_test_split(X, y, test_size=0.2)\n",
    "    clf = linear_model.SGDClassifier()\n",
    "    clf.fit(X_train, y_train)\n",
    "    return clf.predict(X_test), y_test"
   ]
  },
  {
   "cell_type": "code",
   "execution_count": 109,
   "metadata": {
    "collapsed": true
   },
   "outputs": [],
   "source": [
    "#классификация перцептроном\n",
    "def MLPC(X,y):\n",
    "    X_train, X_test, y_train, y_test = train_test_split(X, y, test_size=0.2)\n",
    "    clf = neural_network.MLPClassifier( )\n",
    "    clf.fit(X_train, y_train)\n",
    "    return clf.predict(X_test), y_test"
   ]
  },
  {
   "cell_type": "code",
   "execution_count": 68,
   "metadata": {},
   "outputs": [],
   "source": [
    "# считаем площадь под ROC кривой\n",
    "def roc_AUC(y_test, y_pred):\n",
    "    fpr, tpr, thresholds = metrics.roc_curve(y_test, y_pred)\n",
    "    return metrics.auc(fpr, tpr)"
   ]
  },
  {
   "cell_type": "code",
   "execution_count": 125,
   "metadata": {},
   "outputs": [
    {
     "data": {
      "image/png": "[encoded data removed]",
      "text/plain": [
       "<matplotlib.figure.Figure at 0x1ef6959ac88>"
      ]
     },
     "metadata": {},
     "output_type": "display_data"
    }
   ],
   "source": [
    "plt.figure(figsize=(14,10))\n",
    "clf_names=['Tree','SVM','SGD','MLPC']\n",
    "#построем гистограммы распределения ROC-AUC для разных методов классификации\n",
    "AUC=[[],[],[],[]]\n",
    "for j in range(1,100):\n",
    "    A = tree(X,y)       \n",
    "    AUC[0].append(roc_AUC(A[1],A[0]))\n",
    "for j in range(1,100):\n",
    "    A = SVM(X,y)       \n",
    "    AUC[1].append(roc_AUC(A[1],A[0]))  \n",
    "for j in range(1,100):\n",
    "    A = SGD(X,y)       \n",
    "    AUC[2].append(roc_AUC(A[1],A[0]))\n",
    "for j in range(1,100):\n",
    "    A = MLPC(X,y)       \n",
    "    AUC[3].append(roc_AUC(A[1],A[0])) \n",
    "ans = pd.DataFrame(data=AUC)   \n",
    "for i in range(1,5):\n",
    "    plt.subplot(2,2, i)\n",
    "    plt.title(clf_names[i-1]+' : Avarage AUC={0:0.2f}'.format(np.mean(AUC[i-1])))\n",
    "    plt.hist(AUC[i-1], 30, normed=True)\n"
   ]
  },
  {
   "cell_type": "markdown",
   "metadata": {},
   "source": [
    "Таким образом, все рассмотренные методы имеют более низкое значение ROC-AUC, чем логистическая регрессия, поэтому она является наиболее валидным инструментом в задачах медицинского прогнозирования.\n",
    "\n",
    "P.S. стоит рассмтортить различные значения параметров для описанных выше методов, чтобы повысить качество вывода."
   ]
  }
 ],
 "metadata": {
  "kernelspec": {
   "display_name": "Python 3",
   "language": "python",
   "name": "python3"
  },
  "language_info": {
   "codemirror_mode": {
    "name": "ipython",
    "version": 3
   },
   "file_extension": ".py",
   "mimetype": "text/x-python",
   "name": "python",
   "nbconvert_exporter": "python",
   "pygments_lexer": "ipython3",
   "version": "3.6.5"
  }
 },
 "nbformat": 4,
 "nbformat_minor": 1
}
